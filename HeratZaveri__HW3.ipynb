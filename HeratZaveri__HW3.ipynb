{
 "cells": [
  {
   "cell_type": "markdown",
   "metadata": {},
   "source": [
    "# CS 301 Homework 2"
   ]
  },
  {
   "cell_type": "code",
   "execution_count": 3,
   "metadata": {},
   "outputs": [],
   "source": [
    "# Author: Herat Zaveri\n",
    "# Date: 2020/02/05\n",
    "# CS301-006, Professor Watson\n",
    "# HW#2 Solution\n",
    "# Solutions for problems 1, 2 and 3 with relevant code\n",
    "# https://github.com/HeratZaveri/HeratZaveri_HW4\n",
    "# https://github.com/HeratZaveri/HeratZaveri_HW4/commit/de97c64b69f232f8a697d5d785312f94aa759e66\n",
    "# master"
   ]
  },
  {
   "cell_type": "markdown",
   "metadata": {},
   "source": [
    "\n",
    "\n"
   ]
  },
  {
   "cell_type": "code",
   "execution_count": 16,
   "metadata": {},
   "outputs": [],
   "source": [
    "import numpy as np\n",
    "import pandas as pd\n",
    "\n",
    "def data_reader(data_path):\n",
    "    \n",
    "    try:\n",
    "        with open(data_path , 'r') as f:\n",
    "            frame = pd.read_csv(data_path)\n",
    "            print(frame.shape)\n",
    "            return frame\n",
    "        \n",
    "    except IOError:\n",
    "        print ('Error while reading file, please try again')\n",
    "        return None\n",
    "        \n",
    "            \n",
    "    "
   ]
  },
  {
   "cell_type": "code",
   "execution_count": 23,
   "metadata": {},
   "outputs": [
    {
     "name": "stdout",
     "output_type": "stream",
     "text": [
      "Error while reading file, please try again\n"
     ]
    }
   ],
   "source": [
    "my = data_reader('hello.csv')"
   ]
  },
  {
   "cell_type": "code",
   "execution_count": 17,
   "metadata": {},
   "outputs": [
    {
     "name": "stdout",
     "output_type": "stream",
     "text": [
      "(193, 6)\n"
     ]
    }
   ],
   "source": [
    "my = data_reader(\"C:\\\\Users\\\\Herat\\\\OneDrive\\\\Documents\\\\CS301\\\\drinks.csv\") "
   ]
  },
  {
   "cell_type": "code",
   "execution_count": 24,
   "metadata": {},
   "outputs": [
    {
     "name": "stdout",
     "output_type": "stream",
     "text": [
      "Error while reading file, please try again\n"
     ]
    }
   ],
   "source": [
    "fr = data_reader(\"C:\\\\Users\\\\Herat\\\\OneDrive\\\\Downloads\\\\CS301\\\\drinks.csv\")"
   ]
  },
  {
   "cell_type": "code",
   "execution_count": 18,
   "metadata": {},
   "outputs": [],
   "source": [
    "#import numpy as np \n",
    "\n",
    "def get_num_outliers(data_path, col):\n",
    "    outliers = []\n",
    "    \n",
    "    values = sorted(data_path[col])\n",
    "    #print(values)\n",
    "    \n",
    "    quantile2 = np.quantile(values,0.50)\n",
    "    quantile1 = np.quantile(values,0.25)\n",
    "    quantile3 = np.quantile(values,0.75)\n",
    "    #print(quantile3)\n",
    "    #print(quantile1)\n",
    "    \n",
    "    IQR = quantile3 - quantile1\n",
    "    \n",
    "    safeZone1 = quantile1 - 1.5*IQR\n",
    "    safeZone2 = quantile3 + 1.5*IQR\n",
    "    \n",
    "    #print(safeZone1)\n",
    "    #print(safeZone2)\n",
    "    \n",
    "    for i in range(len(values)):\n",
    "        if (values[i] < safeZone1 or values[i] > safeZone2):\n",
    "            outliers.append(values[i])\n",
    "    \n",
    "    return len(outliers)\n",
    "        \n",
    "    "
   ]
  },
  {
   "cell_type": "code",
   "execution_count": 19,
   "metadata": {},
   "outputs": [
    {
     "name": "stdout",
     "output_type": "stream",
     "text": [
      "26\n"
     ]
    }
   ],
   "source": [
    "print(get_num_outliers(my,'wine_servings'))"
   ]
  },
  {
   "cell_type": "code",
   "execution_count": null,
   "metadata": {},
   "outputs": [],
   "source": []
  },
  {
   "cell_type": "code",
   "execution_count": null,
   "metadata": {},
   "outputs": [],
   "source": []
  },
  {
   "cell_type": "code",
   "execution_count": 20,
   "metadata": {},
   "outputs": [],
   "source": [
    "def get_num_deviants(data_path, col, multiplier):\n",
    "    \n",
    "    values = data_path[col]\n",
    "    #print(values)\n",
    "    sum = 0\n",
    "    \n",
    "    mean = data_path.loc[:,col].mean()\n",
    "    \n",
    "    stdeviation = data_path.loc[:,col].std()\n",
    "    #print(stdeviation)\n",
    "    \n",
    "    past = []\n",
    "    #zone1 = mean - multiplier*stdeviation\n",
    "    zone2 = mean + multiplier*stdeviation\n",
    "    \n",
    "   # print(zone1)\n",
    "    for j in range(len(values)):\n",
    "        if(values[j] > zone2):\n",
    "            past.append(values[j])\n",
    "    \n",
    "    return len(past)\n",
    "        "
   ]
  },
  {
   "cell_type": "code",
   "execution_count": 21,
   "metadata": {},
   "outputs": [
    {
     "name": "stdout",
     "output_type": "stream",
     "text": [
      "28\n"
     ]
    }
   ],
   "source": [
    "print(get_num_deviants(my,'wine_servings',1))"
   ]
  },
  {
   "cell_type": "code",
   "execution_count": 22,
   "metadata": {},
   "outputs": [
    {
     "name": "stdout",
     "output_type": "stream",
     "text": [
      "15\n"
     ]
    }
   ],
   "source": [
    "print(get_num_deviants(my,'wine_servings',2))"
   ]
  },
  {
   "cell_type": "code",
   "execution_count": null,
   "metadata": {},
   "outputs": [],
   "source": []
  }
 ],
 "metadata": {
  "kernelspec": {
   "display_name": "Python 3",
   "language": "python",
   "name": "python3"
  },
  "language_info": {
   "codemirror_mode": {
    "name": "ipython",
    "version": 3
   },
   "file_extension": ".py",
   "mimetype": "text/x-python",
   "name": "python",
   "nbconvert_exporter": "python",
   "pygments_lexer": "ipython3",
   "version": "3.7.4"
  }
 },
 "nbformat": 4,
 "nbformat_minor": 2
}
